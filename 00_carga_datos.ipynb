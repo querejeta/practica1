{
 "cells": [
  {
   "cell_type": "code",
   "execution_count": 17,
   "metadata": {},
   "outputs": [],
   "source": [
    "import pandas as pd\n",
    "import numpy as np\n",
    "import matplotlib.pyplot as plt\n",
    "import seaborn as sns\n",
    "import sweetviz as sv\n",
    "import openpyxl\n",
    "\n"
   ]
  },
  {
   "cell_type": "code",
   "execution_count": 19,
   "metadata": {},
   "outputs": [],
   "source": [
    "# Cargar los archivos de datos\n",
    "# Ruta relativa a la carpeta de datos\n",
    "data = pd.read_csv('application_data.csv', delimiter=',')\n",
    "\n",
    "\n"
   ]
  },
  {
   "cell_type": "code",
   "execution_count": 21,
   "metadata": {},
   "outputs": [
    {
     "name": "stdout",
     "output_type": "stream",
     "text": [
      "   Unnamed: 0             Table                 Row  \\\n",
      "0           1  application_data          SK_ID_CURR   \n",
      "1           2  application_data              TARGET   \n",
      "2           5  application_data  NAME_CONTRACT_TYPE   \n",
      "3           6  application_data         CODE_GENDER   \n",
      "4           7  application_data        FLAG_OWN_CAR   \n",
      "\n",
      "                                         Description Special  \n",
      "0                           ID of loan in our sample     NaN  \n",
      "1  Target variable (1 - client with payment diffi...     NaN  \n",
      "2        Identification if loan is cash or revolving     NaN  \n",
      "3                               Gender of the client     NaN  \n",
      "4                      Flag if the client owns a car     NaN  \n"
     ]
    }
   ],
   "source": [
    "# Cargar el diccionario de variables\n",
    "dictionary = pd.read_excel('columns_description.xlsx', engine='openpyxl')\n",
    "print(dictionary.head())"
   ]
  },
  {
   "cell_type": "code",
   "execution_count": 20,
   "metadata": {},
   "outputs": [
    {
     "name": "stdout",
     "output_type": "stream",
     "text": [
      "   SK_ID_CURR  TARGET NAME_CONTRACT_TYPE CODE_GENDER FLAG_OWN_CAR  \\\n",
      "0      100002       1         Cash loans           M            N   \n",
      "1      100003       0         Cash loans           F            N   \n",
      "2      100004       0    Revolving loans           M            Y   \n",
      "3      100006       0         Cash loans           F            N   \n",
      "4      100007       0         Cash loans           M            N   \n",
      "\n",
      "  FLAG_OWN_REALTY  CNT_CHILDREN  AMT_INCOME_TOTAL  AMT_CREDIT  AMT_ANNUITY  \\\n",
      "0               Y             0          202500.0    406597.5      24700.5   \n",
      "1               N             0          270000.0   1293502.5      35698.5   \n",
      "2               Y             0           67500.0    135000.0       6750.0   \n",
      "3               Y             0          135000.0    312682.5      29686.5   \n",
      "4               Y             0          121500.0    513000.0      21865.5   \n",
      "\n",
      "   ...  FLAG_DOCUMENT_18 FLAG_DOCUMENT_19 FLAG_DOCUMENT_20 FLAG_DOCUMENT_21  \\\n",
      "0  ...                 0                0                0                0   \n",
      "1  ...                 0                0                0                0   \n",
      "2  ...                 0                0                0                0   \n",
      "3  ...                 0                0                0                0   \n",
      "4  ...                 0                0                0                0   \n",
      "\n",
      "  AMT_REQ_CREDIT_BUREAU_HOUR AMT_REQ_CREDIT_BUREAU_DAY  \\\n",
      "0                        0.0                       0.0   \n",
      "1                        0.0                       0.0   \n",
      "2                        0.0                       0.0   \n",
      "3                        NaN                       NaN   \n",
      "4                        0.0                       0.0   \n",
      "\n",
      "   AMT_REQ_CREDIT_BUREAU_WEEK  AMT_REQ_CREDIT_BUREAU_MON  \\\n",
      "0                         0.0                        0.0   \n",
      "1                         0.0                        0.0   \n",
      "2                         0.0                        0.0   \n",
      "3                         NaN                        NaN   \n",
      "4                         0.0                        0.0   \n",
      "\n",
      "   AMT_REQ_CREDIT_BUREAU_QRT  AMT_REQ_CREDIT_BUREAU_YEAR  \n",
      "0                        0.0                         1.0  \n",
      "1                        0.0                         0.0  \n",
      "2                        0.0                         0.0  \n",
      "3                        NaN                         NaN  \n",
      "4                        0.0                         0.0  \n",
      "\n",
      "[5 rows x 122 columns]\n"
     ]
    }
   ],
   "source": [
    "#Mostrar las primeras filas para verificar\n",
    "print(data.head())\n"
   ]
  },
  {
   "cell_type": "code",
   "execution_count": 22,
   "metadata": {},
   "outputs": [
    {
     "name": "stdout",
     "output_type": "stream",
     "text": [
      "Dimensiones del dataset:\n",
      "(307511, 122)\n",
      "\n",
      "Tipos de datos de las columnas:\n",
      "SK_ID_CURR                      int64\n",
      "TARGET                          int64\n",
      "NAME_CONTRACT_TYPE             object\n",
      "CODE_GENDER                    object\n",
      "FLAG_OWN_CAR                   object\n",
      "                               ...   \n",
      "AMT_REQ_CREDIT_BUREAU_DAY     float64\n",
      "AMT_REQ_CREDIT_BUREAU_WEEK    float64\n",
      "AMT_REQ_CREDIT_BUREAU_MON     float64\n",
      "AMT_REQ_CREDIT_BUREAU_QRT     float64\n",
      "AMT_REQ_CREDIT_BUREAU_YEAR    float64\n",
      "Length: 122, dtype: object\n",
      "\n",
      "Cantidad de valores nulos por columna:\n",
      "SK_ID_CURR                        0\n",
      "TARGET                            0\n",
      "NAME_CONTRACT_TYPE                0\n",
      "CODE_GENDER                       0\n",
      "FLAG_OWN_CAR                      0\n",
      "                              ...  \n",
      "AMT_REQ_CREDIT_BUREAU_DAY     41519\n",
      "AMT_REQ_CREDIT_BUREAU_WEEK    41519\n",
      "AMT_REQ_CREDIT_BUREAU_MON     41519\n",
      "AMT_REQ_CREDIT_BUREAU_QRT     41519\n",
      "AMT_REQ_CREDIT_BUREAU_YEAR    41519\n",
      "Length: 122, dtype: int64\n"
     ]
    }
   ],
   "source": [
    "# Dimensiones del dataset\n",
    "print(\"Dimensiones del dataset:\")\n",
    "print(data.shape)\n",
    "\n",
    "# Tipos de datos\n",
    "print(\"\\nTipos de datos de las columnas:\")\n",
    "print(data.dtypes)\n",
    "\n",
    "# Valores nulos\n",
    "print(\"\\nCantidad de valores nulos por columna:\")\n",
    "print(data.isnull().sum())"
   ]
  },
  {
   "cell_type": "markdown",
   "metadata": {},
   "source": [
    "#### 1. Dimesiones del data set\n",
    "- El dataset contiene 307,511 filas (observaciones o registros) y 122 columnas (variables).\n",
    "- Cada fila representa una persona o cliente, y las columnas son las características asociadas a cada uno.\n",
    "\n",
    "#### 2. Tipos de datos\n",
    "- int64: Variables numéricas enteras. Por ejemplo, SK_ID_CURR parece ser un identificador único de cliente y TARGET es el objetivo que estamos tratando de analizar.\n",
    "- object: Variables categóricas o texto. Por ejemplo, NAME_CONTRACT_TYPE podría indicar el tipo de contrato y CODE_GENDER el género.\n",
    "- float64 (mostrado más adelante): Variables numéricas decimales, como las solicitudes de crédito (AMT_REQ_CREDIT_BUREAU_DAY).\n",
    "\n",
    "#### 3. Valores nulos\n",
    "- Columnas con 0 valores nulos: Estas variables están completas, es decir, no tienen datos faltantes.\n",
    "    - Ejemplo: SK_ID_CURR, TARGET, CODE_GENDER no tienen valores nulos.\n",
    "- Columnas con valores nulos (como AMT_REQ_CREDIT_BUREAU_YEAR):\n",
    "    - Esta columna tiene 41,519 valores nulos, lo que representa una proporción significativa del total."
   ]
  },
  {
   "cell_type": "code",
   "execution_count": 24,
   "metadata": {},
   "outputs": [
    {
     "name": "stdout",
     "output_type": "stream",
     "text": [
      "\n",
      "Estadísticas descriptivas:\n",
      "          SK_ID_CURR         TARGET   CNT_CHILDREN  AMT_INCOME_TOTAL  \\\n",
      "count  307511.000000  307511.000000  307511.000000      3.075110e+05   \n",
      "mean   278180.518577       0.080729       0.417052      1.687979e+05   \n",
      "std    102790.175348       0.272419       0.722121      2.371231e+05   \n",
      "min    100002.000000       0.000000       0.000000      2.565000e+04   \n",
      "25%    189145.500000       0.000000       0.000000      1.125000e+05   \n",
      "50%    278202.000000       0.000000       0.000000      1.471500e+05   \n",
      "75%    367142.500000       0.000000       1.000000      2.025000e+05   \n",
      "max    456255.000000       1.000000      19.000000      1.170000e+08   \n",
      "\n",
      "         AMT_CREDIT    AMT_ANNUITY  AMT_GOODS_PRICE  \\\n",
      "count  3.075110e+05  307499.000000     3.072330e+05   \n",
      "mean   5.990260e+05   27108.573909     5.383962e+05   \n",
      "std    4.024908e+05   14493.737315     3.694465e+05   \n",
      "min    4.500000e+04    1615.500000     4.050000e+04   \n",
      "25%    2.700000e+05   16524.000000     2.385000e+05   \n",
      "50%    5.135310e+05   24903.000000     4.500000e+05   \n",
      "75%    8.086500e+05   34596.000000     6.795000e+05   \n",
      "max    4.050000e+06  258025.500000     4.050000e+06   \n",
      "\n",
      "       REGION_POPULATION_RELATIVE     DAYS_BIRTH  DAYS_EMPLOYED  ...  \\\n",
      "count               307511.000000  307511.000000  307511.000000  ...   \n",
      "mean                     0.020868  -16036.995067   63815.045904  ...   \n",
      "std                      0.013831    4363.988632  141275.766519  ...   \n",
      "min                      0.000290  -25229.000000  -17912.000000  ...   \n",
      "25%                      0.010006  -19682.000000   -2760.000000  ...   \n",
      "50%                      0.018850  -15750.000000   -1213.000000  ...   \n",
      "75%                      0.028663  -12413.000000    -289.000000  ...   \n",
      "max                      0.072508   -7489.000000  365243.000000  ...   \n",
      "\n",
      "       FLAG_DOCUMENT_18  FLAG_DOCUMENT_19  FLAG_DOCUMENT_20  FLAG_DOCUMENT_21  \\\n",
      "count     307511.000000     307511.000000     307511.000000     307511.000000   \n",
      "mean           0.008130          0.000595          0.000507          0.000335   \n",
      "std            0.089798          0.024387          0.022518          0.018299   \n",
      "min            0.000000          0.000000          0.000000          0.000000   \n",
      "25%            0.000000          0.000000          0.000000          0.000000   \n",
      "50%            0.000000          0.000000          0.000000          0.000000   \n",
      "75%            0.000000          0.000000          0.000000          0.000000   \n",
      "max            1.000000          1.000000          1.000000          1.000000   \n",
      "\n",
      "       AMT_REQ_CREDIT_BUREAU_HOUR  AMT_REQ_CREDIT_BUREAU_DAY  \\\n",
      "count               265992.000000              265992.000000   \n",
      "mean                     0.006402                   0.007000   \n",
      "std                      0.083849                   0.110757   \n",
      "min                      0.000000                   0.000000   \n",
      "25%                      0.000000                   0.000000   \n",
      "50%                      0.000000                   0.000000   \n",
      "75%                      0.000000                   0.000000   \n",
      "max                      4.000000                   9.000000   \n",
      "\n",
      "       AMT_REQ_CREDIT_BUREAU_WEEK  AMT_REQ_CREDIT_BUREAU_MON  \\\n",
      "count               265992.000000              265992.000000   \n",
      "mean                     0.034362                   0.267395   \n",
      "std                      0.204685                   0.916002   \n",
      "min                      0.000000                   0.000000   \n",
      "25%                      0.000000                   0.000000   \n",
      "50%                      0.000000                   0.000000   \n",
      "75%                      0.000000                   0.000000   \n",
      "max                      8.000000                  27.000000   \n",
      "\n",
      "       AMT_REQ_CREDIT_BUREAU_QRT  AMT_REQ_CREDIT_BUREAU_YEAR  \n",
      "count              265992.000000               265992.000000  \n",
      "mean                    0.265474                    1.899974  \n",
      "std                     0.794056                    1.869295  \n",
      "min                     0.000000                    0.000000  \n",
      "25%                     0.000000                    0.000000  \n",
      "50%                     0.000000                    1.000000  \n",
      "75%                     0.000000                    3.000000  \n",
      "max                   261.000000                   25.000000  \n",
      "\n",
      "[8 rows x 106 columns]\n"
     ]
    }
   ],
   "source": [
    "# Estadísticas descriptivas\n",
    "print(\"\\nEstadísticas descriptivas:\")\n",
    "print(data.describe())"
   ]
  },
  {
   "cell_type": "code",
   "execution_count": 25,
   "metadata": {},
   "outputs": [
    {
     "name": "stdout",
     "output_type": "stream",
     "text": [
      "\n",
      "Relación entre columnas del dataset y diccionario de variables:\n",
      "                           Row  \\\n",
      "0                   SK_ID_CURR   \n",
      "1                       TARGET   \n",
      "2           NAME_CONTRACT_TYPE   \n",
      "3                  CODE_GENDER   \n",
      "4                 FLAG_OWN_CAR   \n",
      "..                         ...   \n",
      "155             DAYS_FIRST_DUE   \n",
      "156  DAYS_LAST_DUE_1ST_VERSION   \n",
      "157              DAYS_LAST_DUE   \n",
      "158           DAYS_TERMINATION   \n",
      "159  NFLAG_INSURED_ON_APPROVAL   \n",
      "\n",
      "                                           Description  \n",
      "0                             ID of loan in our sample  \n",
      "1    Target variable (1 - client with payment diffi...  \n",
      "2          Identification if loan is cash or revolving  \n",
      "3                                 Gender of the client  \n",
      "4                        Flag if the client owns a car  \n",
      "..                                                 ...  \n",
      "155  Relative to application date of current applic...  \n",
      "156  Relative to application date of current applic...  \n",
      "157  Relative to application date of current applic...  \n",
      "158  Relative to application date of current applic...  \n",
      "159  Did the client requested insurance during the ...  \n",
      "\n",
      "[160 rows x 2 columns]\n"
     ]
    }
   ],
   "source": [
    "# Relación entre las columnas del dataset y el diccionario\n",
    "print(\"\\nRelación entre columnas del dataset y diccionario de variables:\")\n",
    "print(dictionary[['Row', 'Description']])"
   ]
  },
  {
   "cell_type": "code",
   "execution_count": 26,
   "metadata": {},
   "outputs": [
    {
     "name": "stdout",
     "output_type": "stream",
     "text": [
      "Porcentaje de valores nulos por columna:\n",
      "COMMONAREA_MEDI             69.872297\n",
      "COMMONAREA_AVG              69.872297\n",
      "COMMONAREA_MODE             69.872297\n",
      "NONLIVINGAPARTMENTS_MEDI    69.432963\n",
      "NONLIVINGAPARTMENTS_MODE    69.432963\n",
      "                              ...    \n",
      "EXT_SOURCE_2                 0.214626\n",
      "AMT_GOODS_PRICE              0.090403\n",
      "AMT_ANNUITY                  0.003902\n",
      "CNT_FAM_MEMBERS              0.000650\n",
      "DAYS_LAST_PHONE_CHANGE       0.000325\n",
      "Length: 67, dtype: float64\n"
     ]
    }
   ],
   "source": [
    "# Porcentaje de valores nulos por columna\n",
    "missing_values = (data.isnull().sum() / len(data)) * 100\n",
    "missing_values = missing_values[missing_values > 0]  # Filtrar columnas con valores nulos\n",
    "missing_values = missing_values.sort_values(ascending=False)\n",
    "\n",
    "print(\"Porcentaje de valores nulos por columna:\")\n",
    "print(missing_values)\n"
   ]
  },
  {
   "cell_type": "code",
   "execution_count": 29,
   "metadata": {},
   "outputs": [
    {
     "name": "stdout",
     "output_type": "stream",
     "text": [
      "Plotly está instalado correctamente. Versión: 5.24.1\n"
     ]
    }
   ],
   "source": [
    "import plotly\n",
    "print(\"Plotly está instalado correctamente. Versión:\", plotly.__version__)\n"
   ]
  },
  {
   "cell_type": "code",
   "execution_count": 30,
   "metadata": {},
   "outputs": [
    {
     "name": "stdout",
     "output_type": "stream",
     "text": [
      "Distribución de TARGET:\n",
      "   TARGET   count    percent\n",
      "0       0  282686  91.927118\n",
      "1       1   24825   8.072882\n"
     ]
    },
    {
     "name": "stderr",
     "output_type": "stream",
     "text": [
      "/var/folders/68/dc1ntv914znfn6fky8vvd1yc0000gn/T/ipykernel_28152/1246134499.py:21: FutureWarning: \n",
      "\n",
      "Passing `palette` without assigning `hue` is deprecated and will be removed in v0.14.0. Assign the `x` variable to `hue` and set `legend=False` for the same effect.\n",
      "\n",
      "  sns.barplot(x=target_analysis['TARGET'], y=target_analysis['percent'], palette=\"viridis\")\n"
     ]
    },
    {
     "data": {
      "image/png": "[encoded data removed]",
      "text/plain": [
       "<Figure size 800x600 with 1 Axes>"
      ]
     },
     "metadata": {},
     "output_type": "display_data"
    },
    {
     "data": {
      "application/vnd.plotly.v1+json": {
       "config": {
        "plotlyServerURL": "https://plot.ly"
       },
       "data": [
        {
         "alignmentgroup": "True",
         "hovertemplate": "TARGET=%{x}<br>percent=%{text}<extra></extra>",
         "legendgroup": "",
         "marker": {
          "color": "#636efa",
          "pattern": {
           "shape": ""
          }
         },
         "name": "",
         "offsetgroup": "",
         "orientation": "v",
         "showlegend": false,
         "text": [
          91.92711805431351,
          8.072881945686495
         ],
         "textposition": "outside",
         "texttemplate": "%{text:.2f}%",
         "type": "bar",
         "x": [
          0,
          1
         ],
         "xaxis": "x",
         "y": [
          91.92711805431351,
          8.072881945686495
         ],
         "yaxis": "y"
        }
       ],
       "layout": {
        "barmode": "relative",
        "legend": {
         "tracegroupgap": 0
        },
        "template": {
         "data": {
          "bar": [
           {
            "error_x": {
             "color": "#2a3f5f"
            },
            "error_y": {
             "color": "#2a3f5f"
            },
            "marker": {
             "line": {
              "color": "#E5ECF6",
              "width": 0.5
             },
             "pattern": {
              "fillmode": "overlay",
              "size": 10,
              "solidity": 0.2
             }
            },
            "type": "bar"
           }
          ],
          "barpolar": [
           {
            "marker": {
             "line": {
              "color": "#E5ECF6",
              "width": 0.5
             },
             "pattern": {
              "fillmode": "overlay",
              "size": 10,
              "solidity": 0.2
             }
            },
            "type": "barpolar"
           }
          ],
          "carpet": [
           {
            "aaxis": {
             "endlinecolor": "#2a3f5f",
             "gridcolor": "white",
             "linecolor": "white",
             "minorgridcolor": "white",
             "startlinecolor": "#2a3f5f"
            },
            "baxis": {
             "endlinecolor": "#2a3f5f",
             "gridcolor": "white",
             "linecolor": "white",
             "minorgridcolor": "white",
             "startlinecolor": "#2a3f5f"
            },
            "type": "carpet"
           }
          ],
          "choropleth": [
           {
            "colorbar": {
             "outlinewidth": 0,
             "ticks": ""
            },
            "type": "choropleth"
           }
          ],
          "contour": [
           {
            "colorbar": {
             "outlinewidth": 0,
             "ticks": ""
            },
            "colorscale": [
             [
              0,
              "#0d0887"
             ],
             [
              0.1111111111111111,
              "#46039f"
             ],
             [
              0.2222222222222222,
              "#7201a8"
             ],
             [
              0.3333333333333333,
              "#9c179e"
             ],
             [
              0.4444444444444444,
              "#bd3786"
             ],
             [
              0.5555555555555556,
              "#d8576b"
             ],
             [
              0.6666666666666666,
              "#ed7953"
             ],
             [
              0.7777777777777778,
              "#fb9f3a"
             ],
             [
              0.8888888888888888,
              "#fdca26"
             ],
             [
              1,
              "#f0f921"
             ]
            ],
            "type": "contour"
           }
          ],
          "contourcarpet": [
           {
            "colorbar": {
             "outlinewidth": 0,
             "ticks": ""
            },
            "type": "contourcarpet"
           }
          ],
          "heatmap": [
           {
            "colorbar": {
             "outlinewidth": 0,
             "ticks": ""
            },
            "colorscale": [
             [
              0,
              "#0d0887"
             ],
             [
              0.1111111111111111,
              "#46039f"
             ],
             [
              0.2222222222222222,
              "#7201a8"
             ],
             [
              0.3333333333333333,
              "#9c179e"
             ],
             [
              0.4444444444444444,
              "#bd3786"
             ],
             [
              0.5555555555555556,
              "#d8576b"
             ],
             [
              0.6666666666666666,
              "#ed7953"
             ],
             [
              0.7777777777777778,
              "#fb9f3a"
             ],
             [
              0.8888888888888888,
              "#fdca26"
             ],
             [
              1,
              "#f0f921"
             ]
            ],
            "type": "heatmap"
           }
          ],
          "heatmapgl": [
           {
            "colorbar": {
             "outlinewidth": 0,
             "ticks": ""
            },
            "colorscale": [
             [
              0,
              "#0d0887"
             ],
             [
              0.1111111111111111,
              "#46039f"
             ],
             [
              0.2222222222222222,
              "#7201a8"
             ],
             [
              0.3333333333333333,
              "#9c179e"
             ],
             [
              0.4444444444444444,
              "#bd3786"
             ],
             [
              0.5555555555555556,
              "#d8576b"
             ],
             [
              0.6666666666666666,
              "#ed7953"
             ],
             [
              0.7777777777777778,
              "#fb9f3a"
             ],
             [
              0.8888888888888888,
              "#fdca26"
             ],
             [
              1,
              "#f0f921"
             ]
            ],
            "type": "heatmapgl"
           }
          ],
          "histogram": [
           {
            "marker": {
             "pattern": {
              "fillmode": "overlay",
              "size": 10,
              "solidity": 0.2
             }
            },
            "type": "histogram"
           }
          ],
          "histogram2d": [
           {
            "colorbar": {
             "outlinewidth": 0,
             "ticks": ""
            },
            "colorscale": [
             [
              0,
              "#0d0887"
             ],
             [
              0.1111111111111111,
              "#46039f"
             ],
             [
              0.2222222222222222,
              "#7201a8"
             ],
             [
              0.3333333333333333,
              "#9c179e"
             ],
             [
              0.4444444444444444,
              "#bd3786"
             ],
             [
              0.5555555555555556,
              "#d8576b"
             ],
             [
              0.6666666666666666,
              "#ed7953"
             ],
             [
              0.7777777777777778,
              "#fb9f3a"
             ],
             [
              0.8888888888888888,
              "#fdca26"
             ],
             [
              1,
              "#f0f921"
             ]
            ],
            "type": "histogram2d"
           }
          ],
          "histogram2dcontour": [
           {
            "colorbar": {
             "outlinewidth": 0,
             "ticks": ""
            },
            "colorscale": [
             [
              0,
              "#0d0887"
             ],
             [
              0.1111111111111111,
              "#46039f"
             ],
             [
              0.2222222222222222,
              "#7201a8"
             ],
             [
              0.3333333333333333,
              "#9c179e"
             ],
             [
              0.4444444444444444,
              "#bd3786"
             ],
             [
              0.5555555555555556,
              "#d8576b"
             ],
             [
              0.6666666666666666,
              "#ed7953"
             ],
             [
              0.7777777777777778,
              "#fb9f3a"
             ],
             [
              0.8888888888888888,
              "#fdca26"
             ],
             [
              1,
              "#f0f921"
             ]
            ],
            "type": "histogram2dcontour"
           }
          ],
          "mesh3d": [
           {
            "colorbar": {
             "outlinewidth": 0,
             "ticks": ""
            },
            "type": "mesh3d"
           }
          ],
          "parcoords": [
           {
            "line": {
             "colorbar": {
              "outlinewidth": 0,
              "ticks": ""
             }
            },
            "type": "parcoords"
           }
          ],
          "pie": [
           {
            "automargin": true,
            "type": "pie"
           }
          ],
          "scatter": [
           {
            "fillpattern": {
             "fillmode": "overlay",
             "size": 10,
             "solidity": 0.2
            },
            "type": "scatter"
           }
          ],
          "scatter3d": [
           {
            "line": {
             "colorbar": {
              "outlinewidth": 0,
              "ticks": ""
             }
            },
            "marker": {
             "colorbar": {
              "outlinewidth": 0,
              "ticks": ""
             }
            },
            "type": "scatter3d"
           }
          ],
          "scattercarpet": [
           {
            "marker": {
             "colorbar": {
              "outlinewidth": 0,
              "ticks": ""
             }
            },
            "type": "scattercarpet"
           }
          ],
          "scattergeo": [
           {
            "marker": {
             "colorbar": {
              "outlinewidth": 0,
              "ticks": ""
             }
            },
            "type": "scattergeo"
           }
          ],
          "scattergl": [
           {
            "marker": {
             "colorbar": {
              "outlinewidth": 0,
              "ticks": ""
             }
            },
            "type": "scattergl"
           }
          ],
          "scattermapbox": [
           {
            "marker": {
             "colorbar": {
              "outlinewidth": 0,
              "ticks": ""
             }
            },
            "type": "scattermapbox"
           }
          ],
          "scatterpolar": [
           {
            "marker": {
             "colorbar": {
              "outlinewidth": 0,
              "ticks": ""
             }
            },
            "type": "scatterpolar"
           }
          ],
          "scatterpolargl": [
           {
            "marker": {
             "colorbar": {
              "outlinewidth": 0,
              "ticks": ""
             }
            },
            "type": "scatterpolargl"
           }
          ],
          "scatterternary": [
           {
            "marker": {
             "colorbar": {
              "outlinewidth": 0,
              "ticks": ""
             }
            },
            "type": "scatterternary"
           }
          ],
          "surface": [
           {
            "colorbar": {
             "outlinewidth": 0,
             "ticks": ""
            },
            "colorscale": [
             [
              0,
              "#0d0887"
             ],
             [
              0.1111111111111111,
              "#46039f"
             ],
             [
              0.2222222222222222,
              "#7201a8"
             ],
             [
              0.3333333333333333,
              "#9c179e"
             ],
             [
              0.4444444444444444,
              "#bd3786"
             ],
             [
              0.5555555555555556,
              "#d8576b"
             ],
             [
              0.6666666666666666,
              "#ed7953"
             ],
             [
              0.7777777777777778,
              "#fb9f3a"
             ],
             [
              0.8888888888888888,
              "#fdca26"
             ],
             [
              1,
              "#f0f921"
             ]
            ],
            "type": "surface"
           }
          ],
          "table": [
           {
            "cells": {
             "fill": {
              "color": "#EBF0F8"
             },
             "line": {
              "color": "white"
             }
            },
            "header": {
             "fill": {
              "color": "#C8D4E3"
             },
             "line": {
              "color": "white"
             }
            },
            "type": "table"
           }
          ]
         },
         "layout": {
          "annotationdefaults": {
           "arrowcolor": "#2a3f5f",
           "arrowhead": 0,
           "arrowwidth": 1
          },
          "autotypenumbers": "strict",
          "coloraxis": {
           "colorbar": {
            "outlinewidth": 0,
            "ticks": ""
           }
          },
          "colorscale": {
           "diverging": [
            [
             0,
             "#8e0152"
            ],
            [
             0.1,
             "#c51b7d"
            ],
            [
             0.2,
             "#de77ae"
            ],
            [
             0.3,
             "#f1b6da"
            ],
            [
             0.4,
             "#fde0ef"
            ],
            [
             0.5,
             "#f7f7f7"
            ],
            [
             0.6,
             "#e6f5d0"
            ],
            [
             0.7,
             "#b8e186"
            ],
            [
             0.8,
             "#7fbc41"
            ],
            [
             0.9,
             "#4d9221"
            ],
            [
             1,
             "#276419"
            ]
           ],
           "sequential": [
            [
             0,
             "#0d0887"
            ],
            [
             0.1111111111111111,
             "#46039f"
            ],
            [
             0.2222222222222222,
             "#7201a8"
            ],
            [
             0.3333333333333333,
             "#9c179e"
            ],
            [
             0.4444444444444444,
             "#bd3786"
            ],
            [
             0.5555555555555556,
             "#d8576b"
            ],
            [
             0.6666666666666666,
             "#ed7953"
            ],
            [
             0.7777777777777778,
             "#fb9f3a"
            ],
            [
             0.8888888888888888,
             "#fdca26"
            ],
            [
             1,
             "#f0f921"
            ]
           ],
           "sequentialminus": [
            [
             0,
             "#0d0887"
            ],
            [
             0.1111111111111111,
             "#46039f"
            ],
            [
             0.2222222222222222,
             "#7201a8"
            ],
            [
             0.3333333333333333,
             "#9c179e"
            ],
            [
             0.4444444444444444,
             "#bd3786"
            ],
            [
             0.5555555555555556,
             "#d8576b"
            ],
            [
             0.6666666666666666,
             "#ed7953"
            ],
            [
             0.7777777777777778,
             "#fb9f3a"
            ],
            [
             0.8888888888888888,
             "#fdca26"
            ],
            [
             1,
             "#f0f921"
            ]
           ]
          },
          "colorway": [
           "#636efa",
           "#EF553B",
           "#00cc96",
           "#ab63fa",
           "#FFA15A",
           "#19d3f3",
           "#FF6692",
           "#B6E880",
           "#FF97FF",
           "#FECB52"
          ],
          "font": {
           "color": "#2a3f5f"
          },
          "geo": {
           "bgcolor": "white",
           "lakecolor": "white",
           "landcolor": "#E5ECF6",
           "showlakes": true,
           "showland": true,
           "subunitcolor": "white"
          },
          "hoverlabel": {
           "align": "left"
          },
          "hovermode": "closest",
          "mapbox": {
           "style": "light"
          },
          "paper_bgcolor": "white",
          "plot_bgcolor": "#E5ECF6",
          "polar": {
           "angularaxis": {
            "gridcolor": "white",
            "linecolor": "white",
            "ticks": ""
           },
           "bgcolor": "#E5ECF6",
           "radialaxis": {
            "gridcolor": "white",
            "linecolor": "white",
            "ticks": ""
           }
          },
          "scene": {
           "xaxis": {
            "backgroundcolor": "#E5ECF6",
            "gridcolor": "white",
            "gridwidth": 2,
            "linecolor": "white",
            "showbackground": true,
            "ticks": "",
            "zerolinecolor": "white"
           },
           "yaxis": {
            "backgroundcolor": "#E5ECF6",
            "gridcolor": "white",
            "gridwidth": 2,
            "linecolor": "white",
            "showbackground": true,
            "ticks": "",
            "zerolinecolor": "white"
           },
           "zaxis": {
            "backgroundcolor": "#E5ECF6",
            "gridcolor": "white",
            "gridwidth": 2,
            "linecolor": "white",
            "showbackground": true,
            "ticks": "",
            "zerolinecolor": "white"
           }
          },
          "shapedefaults": {
           "line": {
            "color": "#2a3f5f"
           }
          },
          "ternary": {
           "aaxis": {
            "gridcolor": "white",
            "linecolor": "white",
            "ticks": ""
           },
           "baxis": {
            "gridcolor": "white",
            "linecolor": "white",
            "ticks": ""
           },
           "bgcolor": "#E5ECF6",
           "caxis": {
            "gridcolor": "white",
            "linecolor": "white",
            "ticks": ""
           }
          },
          "title": {
           "x": 0.05
          },
          "xaxis": {
           "automargin": true,
           "gridcolor": "white",
           "linecolor": "white",
           "ticks": "",
           "title": {
            "standoff": 15
           },
           "zerolinecolor": "white",
           "zerolinewidth": 2
          },
          "yaxis": {
           "automargin": true,
           "gridcolor": "white",
           "linecolor": "white",
           "ticks": "",
           "title": {
            "standoff": 15
           },
           "zerolinecolor": "white",
           "zerolinewidth": 2
          }
         }
        },
        "title": {
         "text": "Distribución de la variable TARGET"
        },
        "xaxis": {
         "anchor": "y",
         "domain": [
          0,
          1
         ],
         "tickmode": "array",
         "ticktext": [
          "No incumple (0)",
          "Incumple (1)"
         ],
         "tickvals": [
          0,
          1
         ],
         "title": {
          "text": "TARGET"
         }
        },
        "yaxis": {
         "anchor": "x",
         "domain": [
          0,
          1
         ],
         "title": {
          "text": "percent"
         }
        }
       }
      }
     },
     "metadata": {},
     "output_type": "display_data"
    }
   ],
   "source": [
    "import matplotlib.pyplot as plt\n",
    "import seaborn as sns\n",
    "import plotly.express as px\n",
    "\n",
    "# Proporción y conteo de clases en TARGET\n",
    "target_distribution = data['TARGET'].value_counts(normalize=True).mul(100).rename('percent')\n",
    "target_count = data['TARGET'].value_counts()\n",
    "\n",
    "# Crear un DataFrame para organizar los resultados\n",
    "target_analysis = pd.DataFrame({\n",
    "    'TARGET': target_count.index,\n",
    "    'count': target_count.values,\n",
    "    'percent': target_distribution.values\n",
    "})\n",
    "\n",
    "print(\"Distribución de TARGET:\")\n",
    "print(target_analysis)\n",
    "\n",
    "# Gráfico de barras de la distribución de TARGET con Matplotlib\n",
    "plt.figure(figsize=(8, 6))\n",
    "sns.barplot(x=target_analysis['TARGET'], y=target_analysis['percent'], palette=\"viridis\")\n",
    "plt.title(\"Distribución de la variable TARGET\")\n",
    "plt.xlabel(\"TARGET\")\n",
    "plt.ylabel(\"Porcentaje (%)\")\n",
    "plt.xticks([0, 1], ['No incumple (0)', 'Incumple (1)'])\n",
    "plt.show()\n",
    "\n",
    "# Gráfico interactivo con Plotly\n",
    "fig = px.bar(\n",
    "    target_analysis, x='TARGET', y='percent',\n",
    "    title=\"Distribución de la variable TARGET\",\n",
    "    text='percent'\n",
    ")\n",
    "fig.update_traces(texttemplate='%{text:.2f}%', textposition='outside')\n",
    "fig.update_layout(xaxis=dict(tickmode='array', tickvals=[0, 1], ticktext=['No incumple (0)', 'Incumple (1)']))\n",
    "fig.show()"
   ]
  },
  {
   "cell_type": "markdown",
   "metadata": {},
   "source": [
    "La gráfica muestra la distribución de la variable objetivo TARGET, donde se observa que el 91.93% de los clientes no incumplen con sus pagos (TARGET = 0), mientras que solo el 8.07% presentan incumplimiento (TARGET = 1). "
   ]
  },
  {
   "cell_type": "markdown",
   "metadata": {},
   "source": [
    "# Selección de threshold por filas y columnas para eliminar valores missing"
   ]
  },
  {
   "cell_type": "code",
   "execution_count": 31,
   "metadata": {},
   "outputs": [
    {
     "name": "stdout",
     "output_type": "stream",
     "text": [
      "Dimensiones de valores nulos por columnas: (122,)\n",
      "Dimensiones de valores nulos por filas: (307511,)\n",
      "Valores nulos por columnas (ordenado):\n",
      "                          nulos_columnas  porcentaje_columnas\n",
      "COMMONAREA_MEDI                   214865             0.698723\n",
      "COMMONAREA_AVG                    214865             0.698723\n",
      "COMMONAREA_MODE                   214865             0.698723\n",
      "NONLIVINGAPARTMENTS_MODE          213514             0.694330\n",
      "NONLIVINGAPARTMENTS_AVG           213514             0.694330\n",
      "...                                  ...                  ...\n",
      "NAME_HOUSING_TYPE                      0             0.000000\n",
      "NAME_FAMILY_STATUS                     0             0.000000\n",
      "NAME_EDUCATION_TYPE                    0             0.000000\n",
      "NAME_INCOME_TYPE                       0             0.000000\n",
      "SK_ID_CURR                             0             0.000000\n",
      "\n",
      "[122 rows x 2 columns]\n",
      "\n",
      "Valores nulos por filas (ordenado):\n",
      "        nulos_filas  porcentaje_filas  TARGET\n",
      "185713           61               0.5       0\n",
      "133770           61               0.5       0\n",
      "197736           61               0.5       0\n",
      "116937           61               0.5       0\n",
      "269492           61               0.5       0\n",
      "...             ...               ...     ...\n",
      "129942            0               0.0       0\n",
      "129929            0               0.0       0\n",
      "129924            0               0.0       0\n",
      "129911            0               0.0       0\n",
      "153755            0               0.0       0\n",
      "\n",
      "[307511 rows x 3 columns]\n"
     ]
    }
   ],
   "source": [
    "# Calcular valores nulos por columnas y filas\n",
    "null_columns = data.isnull().sum().sort_values(ascending=False)  # Valores nulos por columna\n",
    "null_rows = data.isnull().sum(axis=1).sort_values(ascending=False)  # Valores nulos por fila\n",
    "\n",
    "# Mostrar las dimensiones\n",
    "print(f\"Dimensiones de valores nulos por columnas: {null_columns.shape}\")\n",
    "print(f\"Dimensiones de valores nulos por filas: {null_rows.shape}\")\n",
    "\n",
    "# Crear DataFrames para análisis\n",
    "null_columns_df = pd.DataFrame(null_columns, columns=['nulos_columnas'])\n",
    "null_rows_df = pd.DataFrame(null_rows, columns=['nulos_filas'])\n",
    "\n",
    "# Agregar porcentaje de nulos\n",
    "null_columns_df['porcentaje_columnas'] = null_columns_df['nulos_columnas'] / data.shape[0]\n",
    "null_rows_df['porcentaje_filas'] = null_rows_df['nulos_filas'] / data.shape[1]\n",
    "\n",
    "# Si deseas agregar información sobre TARGET a las filas:\n",
    "null_rows_df['TARGET'] = data['TARGET'].copy()\n",
    "\n",
    "# Mostrar resultados\n",
    "print(\"Valores nulos por columnas (ordenado):\")\n",
    "print(null_columns_df)\n",
    "\n",
    "print(\"\\nValores nulos por filas (ordenado):\")\n",
    "print(null_rows_df)"
   ]
  },
  {
   "cell_type": "markdown",
   "metadata": {},
   "source": [
    "**Selección de threshold por filas y columnas para valores nulos**\n",
    "\n",
    "El análisis de los valores nulos revela lo siguiente:\n",
    "\n",
    "__Por columnas:__\n",
    "\n",
    "Existen 122 columnas en el dataset, de las cuales varias tienen un porcentaje significativo de valores nulos.\n",
    "\n",
    "Las columnas COMMONAREA_MED, COMMONAREA_AVG y COMMONAREA_MODE presentan cerca del 69.87% de valores faltantes, lo que las hace candidatas para ser eliminadas o imputadas según su relevancia en el análisis.\n",
    "\n",
    "Algunas columnas, como NAME_HOUSING_TYPE y NAME_EDUCATION_TYPE, no presentan valores nulos y están completas.\n",
    "Por filas:\n",
    "\n",
    "Hay 307,511 filas en el dataset, y un número considerable tiene hasta un 50% de sus valores faltantes.\n",
    "\n",
    "Esto podría indicar la necesidad de aplicar un threshold para eliminar estas filas, especialmente si contienen poca información relevante.\n",
    "Relevancia de TARGET en las filas con nulos:\n",
    "\n",
    "Se incluyó la variable TARGET para observar cómo se distribuyen los valores faltantes en relación con la variable objetivo. Esto permitirá evaluar si las filas con más nulos tienen una relación significativa con el incumplimiento (TARGET = 1).\n"
   ]
  },
  {
   "cell_type": "code",
   "execution_count": 35,
   "metadata": {},
   "outputs": [
    {
     "name": "stdout",
     "output_type": "stream",
     "text": [
      "Columnas con más del 50.0% de valores nulos:\n",
      "                          nulos_columnas  porcentaje_columnas\n",
      "COMMONAREA_MEDI                   214865             0.698723\n",
      "COMMONAREA_AVG                    214865             0.698723\n",
      "COMMONAREA_MODE                   214865             0.698723\n",
      "NONLIVINGAPARTMENTS_MODE          213514             0.694330\n",
      "NONLIVINGAPARTMENTS_AVG           213514             0.694330\n",
      "NONLIVINGAPARTMENTS_MEDI          213514             0.694330\n",
      "FONDKAPREMONT_MODE                210295             0.683862\n",
      "LIVINGAPARTMENTS_MODE             210199             0.683550\n",
      "LIVINGAPARTMENTS_AVG              210199             0.683550\n",
      "LIVINGAPARTMENTS_MEDI             210199             0.683550\n",
      "FLOORSMIN_AVG                     208642             0.678486\n",
      "FLOORSMIN_MODE                    208642             0.678486\n",
      "FLOORSMIN_MEDI                    208642             0.678486\n",
      "YEARS_BUILD_MEDI                  204488             0.664978\n",
      "YEARS_BUILD_MODE                  204488             0.664978\n",
      "YEARS_BUILD_AVG                   204488             0.664978\n",
      "OWN_CAR_AGE                       202929             0.659908\n",
      "LANDAREA_MEDI                     182590             0.593767\n",
      "LANDAREA_MODE                     182590             0.593767\n",
      "LANDAREA_AVG                      182590             0.593767\n",
      "BASEMENTAREA_MEDI                 179943             0.585160\n",
      "BASEMENTAREA_AVG                  179943             0.585160\n",
      "BASEMENTAREA_MODE                 179943             0.585160\n",
      "EXT_SOURCE_1                      173378             0.563811\n",
      "NONLIVINGAREA_MODE                169682             0.551792\n",
      "NONLIVINGAREA_AVG                 169682             0.551792\n",
      "NONLIVINGAREA_MEDI                169682             0.551792\n",
      "ELEVATORS_MEDI                    163891             0.532960\n",
      "ELEVATORS_AVG                     163891             0.532960\n",
      "ELEVATORS_MODE                    163891             0.532960\n",
      "WALLSMATERIAL_MODE                156341             0.508408\n",
      "APARTMENTS_MEDI                   156061             0.507497\n",
      "APARTMENTS_AVG                    156061             0.507497\n",
      "APARTMENTS_MODE                   156061             0.507497\n",
      "ENTRANCES_MEDI                    154828             0.503488\n",
      "ENTRANCES_AVG                     154828             0.503488\n",
      "ENTRANCES_MODE                    154828             0.503488\n",
      "LIVINGAREA_AVG                    154350             0.501933\n",
      "LIVINGAREA_MODE                   154350             0.501933\n",
      "LIVINGAREA_MEDI                   154350             0.501933\n",
      "HOUSETYPE_MODE                    154297             0.501761\n",
      "\n",
      "Filas con más del 50.0% de valores nulos:\n",
      "Empty DataFrame\n",
      "Columns: [nulos_filas, porcentaje_filas, TARGET]\n",
      "Index: []\n",
      "\n",
      "Dimensiones originales del dataset: (307511, 122)\n",
      "Dimensiones después de limpiar: (307511, 81)\n"
     ]
    }
   ],
   "source": [
    "# Threshold (umbral) para eliminar columnas y filas\n",
    "threshold_columnas = 0.50  # Eliminar columnas con más del 50% de valores nulos\n",
    "threshold_filas = 0.50     # Eliminar filas con más del 50% de valores nulos\n",
    "\n",
    "# Identificar columnas que superan el threshold\n",
    "columnas_a_eliminar = null_columns_df[null_columns_df['porcentaje_columnas'] > threshold_columnas]\n",
    "print(f\"Columnas con más del {threshold_columnas*100}% de valores nulos:\")\n",
    "print(columnas_a_eliminar)\n",
    "\n",
    "# Identificar filas que superan el threshold\n",
    "filas_a_eliminar = null_rows_df[null_rows_df['porcentaje_filas'] > threshold_filas]\n",
    "print(f\"\\nFilas con más del {threshold_filas*100}% de valores nulos:\")\n",
    "print(filas_a_eliminar)\n",
    "\n",
    "# Eliminar columnas y filas según el threshold\n",
    "data_cleaned = data.drop(columns=columnas_a_eliminar.index)  # Eliminar columnas\n",
    "data_cleaned = data_cleaned.drop(filas_a_eliminar.index, axis=0)  # Eliminar filas\n",
    "\n",
    "# Mostrar dimensiones después de limpiar\n",
    "print(\"\\nDimensiones originales del dataset:\", data.shape)\n",
    "print(\"Dimensiones después de limpiar:\", data_cleaned.shape)"
   ]
  },
  {
   "cell_type": "markdown",
   "metadata": {},
   "source": [
    "**Eliminación de valores nulos según threshold**\n",
    "\n",
    "Se aplicó un umbral del 50% tanto para columnas como para filas con valores nulos, obteniendo los siguientes resultados:\n",
    "\n",
    "__Columnas eliminadas:__\n",
    "\n",
    "Un total de 41 columnas fueron eliminadas del dataset, ya que más del 50% de sus valores eran nulos.\n",
    "\n",
    "Entre las columnas eliminadas se encuentran COMMONAREA_MED, COMMONAREA_AVG y NONLIVINGAPARTMENTS_MODE, que presentaban un ~69% de valores faltantes. Estas variables probablemente contenían poca información útil debido a la gran cantidad de datos ausentes.\n",
    "Filas eliminadas:\n",
    "\n",
    "No se eliminó ninguna fila, ya que ninguna fila superó el umbral del 50% de valores faltantes.\n",
    "Dimensiones del dataset:\n",
    "\n",
    "Las dimensiones originales del dataset eran (307,511 filas x 122 columnas).\n",
    "Después de la limpieza, el dataset quedó reducido a (307,511 filas x 81 columnas), eliminando únicamente las columnas con demasiados valores nulos.\n",
    "\n"
   ]
  },
  {
   "cell_type": "markdown",
   "metadata": {},
   "source": [
    "## __Identificar variables categóricas y numéricas__ ##"
   ]
  },
  {
   "cell_type": "code",
   "execution_count": 38,
   "metadata": {},
   "outputs": [
    {
     "name": "stdout",
     "output_type": "stream",
     "text": [
      "Variables categóricas:\n",
      "[]\n",
      "\n",
      "Variables numéricas:\n",
      "['SK_ID_CURR', 'TARGET', 'CNT_CHILDREN', 'AMT_INCOME_TOTAL', 'AMT_CREDIT', 'AMT_ANNUITY', 'AMT_GOODS_PRICE', 'REGION_POPULATION_RELATIVE', 'DAYS_BIRTH', 'DAYS_EMPLOYED', 'DAYS_REGISTRATION', 'DAYS_ID_PUBLISH', 'FLAG_MOBIL', 'FLAG_EMP_PHONE', 'FLAG_WORK_PHONE', 'FLAG_CONT_MOBILE', 'FLAG_PHONE', 'FLAG_EMAIL', 'CNT_FAM_MEMBERS', 'REGION_RATING_CLIENT', 'REGION_RATING_CLIENT_W_CITY', 'HOUR_APPR_PROCESS_START', 'REG_REGION_NOT_LIVE_REGION', 'REG_REGION_NOT_WORK_REGION', 'LIVE_REGION_NOT_WORK_REGION', 'REG_CITY_NOT_LIVE_CITY', 'REG_CITY_NOT_WORK_CITY', 'LIVE_CITY_NOT_WORK_CITY', 'EXT_SOURCE_2', 'EXT_SOURCE_3', 'YEARS_BEGINEXPLUATATION_AVG', 'FLOORSMAX_AVG', 'YEARS_BEGINEXPLUATATION_MODE', 'FLOORSMAX_MODE', 'YEARS_BEGINEXPLUATATION_MEDI', 'FLOORSMAX_MEDI', 'TOTALAREA_MODE', 'OBS_30_CNT_SOCIAL_CIRCLE', 'DEF_30_CNT_SOCIAL_CIRCLE', 'OBS_60_CNT_SOCIAL_CIRCLE', 'DEF_60_CNT_SOCIAL_CIRCLE', 'DAYS_LAST_PHONE_CHANGE', 'FLAG_DOCUMENT_2', 'FLAG_DOCUMENT_3', 'FLAG_DOCUMENT_4', 'FLAG_DOCUMENT_5', 'FLAG_DOCUMENT_6', 'FLAG_DOCUMENT_7', 'FLAG_DOCUMENT_8', 'FLAG_DOCUMENT_9', 'FLAG_DOCUMENT_10', 'FLAG_DOCUMENT_11', 'FLAG_DOCUMENT_12', 'FLAG_DOCUMENT_13', 'FLAG_DOCUMENT_14', 'FLAG_DOCUMENT_15', 'FLAG_DOCUMENT_16', 'FLAG_DOCUMENT_17', 'FLAG_DOCUMENT_18', 'FLAG_DOCUMENT_19', 'FLAG_DOCUMENT_20', 'FLAG_DOCUMENT_21', 'AMT_REQ_CREDIT_BUREAU_HOUR', 'AMT_REQ_CREDIT_BUREAU_DAY', 'AMT_REQ_CREDIT_BUREAU_WEEK', 'AMT_REQ_CREDIT_BUREAU_MON', 'AMT_REQ_CREDIT_BUREAU_QRT', 'AMT_REQ_CREDIT_BUREAU_YEAR']\n"
     ]
    }
   ],
   "source": [
    "# Identificar variables categóricas y numéricas\n",
    "categorical_vars = data_cleaned.select_dtypes(include=['object']).columns.tolist()\n",
    "numerical_vars = data_cleaned.select_dtypes(include=['int64', 'float64']).columns.tolist()\n",
    "\n",
    "print(\"Variables categóricas:\")\n",
    "print(categorical_vars)\n",
    "\n",
    "print(\"\\nVariables numéricas:\")\n",
    "print(numerical_vars)\n"
   ]
  },
  {
   "cell_type": "markdown",
   "metadata": {},
   "source": [
    "## __Convertir variables categóricas a tipo category__ ##"
   ]
  },
  {
   "cell_type": "code",
   "execution_count": 39,
   "metadata": {},
   "outputs": [
    {
     "name": "stdout",
     "output_type": "stream",
     "text": [
      "\n",
      "Tipos de datos después de la conversión:\n",
      "Series([], dtype: object)\n"
     ]
    }
   ],
   "source": [
    "# Convertir variables categóricas a tipo 'category'\n",
    "data_cleaned[categorical_vars] = data_cleaned[categorical_vars].astype('category')\n",
    "\n",
    "# Verificar los tipos de datos después de la conversión\n",
    "print(\"\\nTipos de datos después de la conversión:\")\n",
    "print(data_cleaned[categorical_vars].dtypes)\n"
   ]
  },
  {
   "cell_type": "markdown",
   "metadata": {},
   "source": [
    "## __Ver valores únicos en variables categóricas__ ##"
   ]
  },
  {
   "cell_type": "code",
   "execution_count": 40,
   "metadata": {},
   "outputs": [],
   "source": [
    "# Ver valores únicos de cada variable categórica\n",
    "for var in categorical_vars:\n",
    "    print(f\"\\nValores únicos en la variable '{var}':\")\n",
    "    print(data_cleaned[var].value_counts())\n"
   ]
  },
  {
   "cell_type": "markdown",
   "metadata": {},
   "source": [
    "## __Analizar variables categóricas clave__ ##"
   ]
  },
  {
   "cell_type": "code",
   "execution_count": 41,
   "metadata": {},
   "outputs": [
    {
     "name": "stdout",
     "output_type": "stream",
     "text": [
      "\n",
      "Distribución de CODE_GENDER:\n",
      "CODE_GENDER\n",
      "F      65.834393\n",
      "M      34.164306\n",
      "XNA     0.001301\n",
      "Name: proportion, dtype: float64\n"
     ]
    },
    {
     "data": {
      "image/png": "[encoded data removed]",
      "text/plain": [
       "<Figure size 800x600 with 1 Axes>"
      ]
     },
     "metadata": {},
     "output_type": "display_data"
    },
    {
     "name": "stdout",
     "output_type": "stream",
     "text": [
      "\n",
      "Distribución de NAME_CONTRACT_TYPE:\n",
      "NAME_CONTRACT_TYPE\n",
      "Cash loans         90.478715\n",
      "Revolving loans     9.521285\n",
      "Name: proportion, dtype: float64\n"
     ]
    },
    {
     "data": {
      "image/png": "[encoded data removed]",
      "text/plain": [
       "<Figure size 800x600 with 1 Axes>"
      ]
     },
     "metadata": {},
     "output_type": "display_data"
    },
    {
     "name": "stdout",
     "output_type": "stream",
     "text": [
      "\n",
      "Distribución de NAME_EDUCATION_TYPE:\n",
      "NAME_EDUCATION_TYPE\n",
      "Secondary / secondary special    71.018923\n",
      "Higher education                 24.344820\n",
      "Incomplete higher                 3.341994\n",
      "Lower secondary                   1.240931\n",
      "Academic degree                   0.053331\n",
      "Name: proportion, dtype: float64\n"
     ]
    },
    {
     "data": {
      "image/png": "[encoded data removed]",
      "text/plain": [
       "<Figure size 800x600 with 1 Axes>"
      ]
     },
     "metadata": {},
     "output_type": "display_data"
    },
    {
     "name": "stdout",
     "output_type": "stream",
     "text": [
      "\n",
      "Distribución de OCCUPATION_TYPE:\n",
      "OCCUPATION_TYPE\n",
      "Laborers                 26.139636\n",
      "Sales staff              15.205570\n",
      "Core staff               13.058924\n",
      "Managers                 10.122679\n",
      "Drivers                   8.811576\n",
      "High skill tech staff     5.390299\n",
      "Accountants               4.648067\n",
      "Medicine staff            4.043672\n",
      "Security staff            3.183498\n",
      "Cooking staff             2.816408\n",
      "Cleaning staff            2.203960\n",
      "Private service staff     1.256158\n",
      "Low-skill Laborers        0.991379\n",
      "Waiters/barmen staff      0.638499\n",
      "Secretaries               0.618132\n",
      "Realty agents             0.355722\n",
      "HR staff                  0.266673\n",
      "IT staff                  0.249147\n",
      "Name: proportion, dtype: float64\n"
     ]
    },
    {
     "data": {
      "image/png": "[encoded data removed]",
      "text/plain": [
       "<Figure size 800x600 with 1 Axes>"
      ]
     },
     "metadata": {},
     "output_type": "display_data"
    }
   ],
   "source": [
    "# Analizar distribución de más variables categóricas relevantes\n",
    "variables_a_analizar = ['CODE_GENDER', 'NAME_CONTRACT_TYPE', 'NAME_EDUCATION_TYPE', 'OCCUPATION_TYPE']\n",
    "\n",
    "for var in variables_a_analizar:\n",
    "    print(f\"\\nDistribución de {var}:\")\n",
    "    print(data_cleaned[var].value_counts(normalize=True) * 100)\n",
    "\n",
    "    # Gráfico para cada variable\n",
    "    plt.figure(figsize=(8, 6))\n",
    "    sns.countplot(data=data_cleaned, x=var, order=data_cleaned[var].value_counts().index)\n",
    "    plt.title(f\"Distribución de {var}\")\n",
    "    plt.xlabel(var)\n",
    "    plt.ylabel(\"Frecuencia\")\n",
    "    plt.xticks(rotation=45)\n",
    "    plt.show()\n"
   ]
  },
  {
   "cell_type": "markdown",
   "metadata": {},
   "source": [
    "### *Explicaciones de cada gráfico para incluir en tu informe*\n",
    "\n",
    "#### *Gráfico 1: Distribución de CODE_GENDER*\n",
    "El gráfico muestra la distribución del género (CODE_GENDER) de los clientes:\n",
    "- La mayoría de los clientes son mujeres (*65.83%), mientras que los hombres representan el **34.16%*.\n",
    "- Hay un número insignificante de valores registrados como XNA (*0.001%*), lo cual podría representar errores de registro o valores irrelevantes.\n",
    "- Esta variable es importante porque puede revelar diferencias significativas en el comportamiento crediticio entre géneros, que podrían influir en el modelo predictivo.\n",
    "\n",
    "---\n",
    "\n",
    "#### *Gráfico 2: Distribución de NAME_CONTRACT_TYPE*\n",
    "Este gráfico muestra la proporción de tipos de contrato en el dataset:\n",
    "- El *90.48%* de los contratos son préstamos en efectivo (Cash loans), mientras que el *9.52%* son préstamos renovables (Revolving loans).\n",
    "- Esta variable es relevante porque diferentes tipos de contratos pueden implicar riesgos distintos. Por ejemplo, los préstamos en efectivo suelen tener montos más altos, mientras que los préstamos renovables tienden a ser líneas de crédito continuas.\n",
    "\n",
    "---\n",
    "\n",
    "#### *Gráfico 3: Distribución de NAME_EDUCATION_TYPE*\n",
    "La gráfica ilustra el nivel educativo de los clientes:\n",
    "- La mayoría tiene un nivel de *educación secundaria o secundaria especial* (*71.02%), seguido de **educación superior* (*24.34%*).\n",
    "- Los niveles más bajos, como *educación secundaria incompleta* (3.34%) o *grado académico avanzado* (0.05%), representan una minoría.\n",
    "- Esta variable es crucial, ya que el nivel educativo puede estar relacionado con la capacidad de pago y el acceso a mejores oportunidades financieras.\n",
    "\n",
    "---\n",
    "\n",
    "#### *Gráfico 4: Distribución de OCCUPATION_TYPE*\n",
    "Este gráfico detalla las ocupaciones de los clientes:\n",
    "- Los grupos más representados son *trabajadores* (Laborers, *26.14%), seguido del personal de ventas (Sales staff, **15.20%) y el personal administrativo (Core staff, **13.06%*).\n",
    "- Las ocupaciones menos representadas incluyen personal de recursos humanos (HR staff, *0.27%) y tecnología de la información (IT staff, **0.25%*).\n",
    "- La ocupación de un cliente puede reflejar su estabilidad laboral y capacidad de generar ingresos, factores críticos en la evaluación de riesgo crediticio.\n",
    "\n",
    "---\n",
    "\n",
    "### *Explicación: ¿Por qué se eligieron estas 4 variables?*\n",
    "\n",
    "1. *Relevancia en el contexto financiero:*\n",
    "   - Estas variables son indicadores importantes del perfil del cliente y su potencial comportamiento de pago.\n",
    "   - Por ejemplo, variables como el género (CODE_GENDER) o la ocupación (OCCUPATION_TYPE) pueden estar correlacionadas con el riesgo de incumplimiento (TARGET).\n",
    "\n",
    "2. *Diversidad de información:*\n",
    "   - Cada una de estas variables ofrece una perspectiva única:\n",
    "     - CODE_GENDER: Información demográfica.\n",
    "     - NAME_CONTRACT_TYPE: Información sobre el tipo de producto financiero.\n",
    "     - NAME_EDUCATION_TYPE: Información sobre el nivel educativo del cliente.\n",
    "     - OCCUPATION_TYPE: Información sobre la estabilidad laboral y nivel de ingresos.\n",
    "\n",
    "3. *Impacto potencial en los modelos:*\n",
    "   - Estas variables suelen ser incluidas en modelos de scoring crediticio porque ayudan a segmentar los clientes según sus características clave.\n",
    "\n",
    "4. *Facilidad de interpretación:*\n",
    "   - Estas variables tienen pocas categorías (excepto OCCUPATION_TYPE), lo que facilita interpretar su impacto en el análisis.\n",
    "\n",
    "---\n",
    "\n"
   ]
  },
  {
   "cell_type": "markdown",
   "metadata": {},
   "source": [
    "## __Analizar variables numéricas__ ##"
   ]
  },
  {
   "cell_type": "code",
   "execution_count": 42,
   "metadata": {},
   "outputs": [
    {
     "name": "stdout",
     "output_type": "stream",
     "text": [
      "\n",
      "Estadísticas descriptivas de las variables numéricas:\n",
      "          SK_ID_CURR         TARGET   CNT_CHILDREN  AMT_INCOME_TOTAL  \\\n",
      "count  307511.000000  307511.000000  307511.000000      3.075110e+05   \n",
      "mean   278180.518577       0.080729       0.417052      1.687979e+05   \n",
      "std    102790.175348       0.272419       0.722121      2.371231e+05   \n",
      "min    100002.000000       0.000000       0.000000      2.565000e+04   \n",
      "25%    189145.500000       0.000000       0.000000      1.125000e+05   \n",
      "50%    278202.000000       0.000000       0.000000      1.471500e+05   \n",
      "75%    367142.500000       0.000000       1.000000      2.025000e+05   \n",
      "max    456255.000000       1.000000      19.000000      1.170000e+08   \n",
      "\n",
      "         AMT_CREDIT    AMT_ANNUITY  AMT_GOODS_PRICE  \\\n",
      "count  3.075110e+05  307499.000000     3.072330e+05   \n",
      "mean   5.990260e+05   27108.573909     5.383962e+05   \n",
      "std    4.024908e+05   14493.737315     3.694465e+05   \n",
      "min    4.500000e+04    1615.500000     4.050000e+04   \n",
      "25%    2.700000e+05   16524.000000     2.385000e+05   \n",
      "50%    5.135310e+05   24903.000000     4.500000e+05   \n",
      "75%    8.086500e+05   34596.000000     6.795000e+05   \n",
      "max    4.050000e+06  258025.500000     4.050000e+06   \n",
      "\n",
      "       REGION_POPULATION_RELATIVE     DAYS_BIRTH  DAYS_EMPLOYED  ...  \\\n",
      "count               307511.000000  307511.000000  307511.000000  ...   \n",
      "mean                     0.020868  -16036.995067   63815.045904  ...   \n",
      "std                      0.013831    4363.988632  141275.766519  ...   \n",
      "min                      0.000290  -25229.000000  -17912.000000  ...   \n",
      "25%                      0.010006  -19682.000000   -2760.000000  ...   \n",
      "50%                      0.018850  -15750.000000   -1213.000000  ...   \n",
      "75%                      0.028663  -12413.000000    -289.000000  ...   \n",
      "max                      0.072508   -7489.000000  365243.000000  ...   \n",
      "\n",
      "       FLAG_DOCUMENT_18  FLAG_DOCUMENT_19  FLAG_DOCUMENT_20  FLAG_DOCUMENT_21  \\\n",
      "count     307511.000000     307511.000000     307511.000000     307511.000000   \n",
      "mean           0.008130          0.000595          0.000507          0.000335   \n",
      "std            0.089798          0.024387          0.022518          0.018299   \n",
      "min            0.000000          0.000000          0.000000          0.000000   \n",
      "25%            0.000000          0.000000          0.000000          0.000000   \n",
      "50%            0.000000          0.000000          0.000000          0.000000   \n",
      "75%            0.000000          0.000000          0.000000          0.000000   \n",
      "max            1.000000          1.000000          1.000000          1.000000   \n",
      "\n",
      "       AMT_REQ_CREDIT_BUREAU_HOUR  AMT_REQ_CREDIT_BUREAU_DAY  \\\n",
      "count               265992.000000              265992.000000   \n",
      "mean                     0.006402                   0.007000   \n",
      "std                      0.083849                   0.110757   \n",
      "min                      0.000000                   0.000000   \n",
      "25%                      0.000000                   0.000000   \n",
      "50%                      0.000000                   0.000000   \n",
      "75%                      0.000000                   0.000000   \n",
      "max                      4.000000                   9.000000   \n",
      "\n",
      "       AMT_REQ_CREDIT_BUREAU_WEEK  AMT_REQ_CREDIT_BUREAU_MON  \\\n",
      "count               265992.000000              265992.000000   \n",
      "mean                     0.034362                   0.267395   \n",
      "std                      0.204685                   0.916002   \n",
      "min                      0.000000                   0.000000   \n",
      "25%                      0.000000                   0.000000   \n",
      "50%                      0.000000                   0.000000   \n",
      "75%                      0.000000                   0.000000   \n",
      "max                      8.000000                  27.000000   \n",
      "\n",
      "       AMT_REQ_CREDIT_BUREAU_QRT  AMT_REQ_CREDIT_BUREAU_YEAR  \n",
      "count              265992.000000               265992.000000  \n",
      "mean                    0.265474                    1.899974  \n",
      "std                     0.794056                    1.869295  \n",
      "min                     0.000000                    0.000000  \n",
      "25%                     0.000000                    0.000000  \n",
      "50%                     0.000000                    1.000000  \n",
      "75%                     0.000000                    3.000000  \n",
      "max                   261.000000                   25.000000  \n",
      "\n",
      "[8 rows x 68 columns]\n"
     ]
    }
   ],
   "source": [
    "# Describir estadísticas de variables numéricas\n",
    "print(\"\\nEstadísticas descriptivas de las variables numéricas:\")\n",
    "print(data_cleaned[numerical_vars].describe())\n"
   ]
  },
  {
   "cell_type": "markdown",
   "metadata": {},
   "source": [
    "## Preprocesamiento inicial de algunas variables"
   ]
  },
  {
   "cell_type": "code",
   "execution_count": 43,
   "metadata": {},
   "outputs": [
    {
     "name": "stdout",
     "output_type": "stream",
     "text": [
      "Columnas en el dataset:\n",
      "['SK_ID_CURR', 'TARGET', 'NAME_CONTRACT_TYPE', 'CODE_GENDER', 'FLAG_OWN_CAR', 'FLAG_OWN_REALTY', 'CNT_CHILDREN', 'AMT_INCOME_TOTAL', 'AMT_CREDIT', 'AMT_ANNUITY', 'AMT_GOODS_PRICE', 'NAME_TYPE_SUITE', 'NAME_INCOME_TYPE', 'NAME_EDUCATION_TYPE', 'NAME_FAMILY_STATUS', 'NAME_HOUSING_TYPE', 'REGION_POPULATION_RELATIVE', 'DAYS_BIRTH', 'DAYS_EMPLOYED', 'DAYS_REGISTRATION', 'DAYS_ID_PUBLISH', 'FLAG_MOBIL', 'FLAG_EMP_PHONE', 'FLAG_WORK_PHONE', 'FLAG_CONT_MOBILE', 'FLAG_PHONE', 'FLAG_EMAIL', 'OCCUPATION_TYPE', 'CNT_FAM_MEMBERS', 'REGION_RATING_CLIENT', 'REGION_RATING_CLIENT_W_CITY', 'WEEKDAY_APPR_PROCESS_START', 'HOUR_APPR_PROCESS_START', 'REG_REGION_NOT_LIVE_REGION', 'REG_REGION_NOT_WORK_REGION', 'LIVE_REGION_NOT_WORK_REGION', 'REG_CITY_NOT_LIVE_CITY', 'REG_CITY_NOT_WORK_CITY', 'LIVE_CITY_NOT_WORK_CITY', 'ORGANIZATION_TYPE', 'EXT_SOURCE_2', 'EXT_SOURCE_3', 'YEARS_BEGINEXPLUATATION_AVG', 'FLOORSMAX_AVG', 'YEARS_BEGINEXPLUATATION_MODE', 'FLOORSMAX_MODE', 'YEARS_BEGINEXPLUATATION_MEDI', 'FLOORSMAX_MEDI', 'TOTALAREA_MODE', 'EMERGENCYSTATE_MODE', 'OBS_30_CNT_SOCIAL_CIRCLE', 'DEF_30_CNT_SOCIAL_CIRCLE', 'OBS_60_CNT_SOCIAL_CIRCLE', 'DEF_60_CNT_SOCIAL_CIRCLE', 'DAYS_LAST_PHONE_CHANGE', 'FLAG_DOCUMENT_2', 'FLAG_DOCUMENT_3', 'FLAG_DOCUMENT_4', 'FLAG_DOCUMENT_5', 'FLAG_DOCUMENT_6', 'FLAG_DOCUMENT_7', 'FLAG_DOCUMENT_8', 'FLAG_DOCUMENT_9', 'FLAG_DOCUMENT_10', 'FLAG_DOCUMENT_11', 'FLAG_DOCUMENT_12', 'FLAG_DOCUMENT_13', 'FLAG_DOCUMENT_14', 'FLAG_DOCUMENT_15', 'FLAG_DOCUMENT_16', 'FLAG_DOCUMENT_17', 'FLAG_DOCUMENT_18', 'FLAG_DOCUMENT_19', 'FLAG_DOCUMENT_20', 'FLAG_DOCUMENT_21', 'AMT_REQ_CREDIT_BUREAU_HOUR', 'AMT_REQ_CREDIT_BUREAU_DAY', 'AMT_REQ_CREDIT_BUREAU_WEEK', 'AMT_REQ_CREDIT_BUREAU_MON', 'AMT_REQ_CREDIT_BUREAU_QRT', 'AMT_REQ_CREDIT_BUREAU_YEAR']\n"
     ]
    }
   ],
   "source": [
    "# Listar todas las columnas del dataset\n",
    "print(\"Columnas en el dataset:\")\n",
    "print(data_cleaned.columns.tolist())"
   ]
  },
  {
   "cell_type": "code",
   "execution_count": 44,
   "metadata": {},
   "outputs": [
    {
     "name": "stdout",
     "output_type": "stream",
     "text": [
      "Transformación de días a años completada:\n",
      "   DAYS_BIRTH_YEARS  DAYS_EMPLOYED_YEARS  DAYS_REGISTRATION_YEARS  \\\n",
      "0              25.9                  1.7                     10.0   \n",
      "1              45.9                  3.3                      3.2   \n",
      "2              52.2                  0.6                     11.7   \n",
      "3              52.1                  8.3                     26.9   \n",
      "4              54.6                  8.3                     11.8   \n",
      "\n",
      "   DAYS_ID_PUBLISH_YEARS  \n",
      "0                    5.8  \n",
      "1                    0.8  \n",
      "2                    6.9  \n",
      "3                    6.7  \n",
      "4                    9.5  \n"
     ]
    }
   ],
   "source": [
    "# Convertir días a años para facilitar la interpretación\n",
    "columns_days_to_years = ['DAYS_BIRTH', 'DAYS_EMPLOYED', 'DAYS_REGISTRATION', 'DAYS_ID_PUBLISH']\n",
    "\n",
    "for col in columns_days_to_years:\n",
    "    if col in data_cleaned.columns:\n",
    "        data_cleaned[col + '_YEARS'] = (data_cleaned[col] / -365).round(1)  # Dividir entre -365 para años\n",
    "\n",
    "# Verificar los resultados\n",
    "print(\"Transformación de días a años completada:\")\n",
    "print(data_cleaned[[col + '_YEARS' for col in columns_days_to_years]].head())"
   ]
  },
  {
   "cell_type": "code",
   "execution_count": 45,
   "metadata": {},
   "outputs": [
    {
     "name": "stdout",
     "output_type": "stream",
     "text": [
      "Ejemplo de columnas financieras:\n",
      "       AMT_INCOME_TOTAL    AMT_CREDIT    AMT_ANNUITY  AMT_GOODS_PRICE\n",
      "count      3.075110e+05  3.075110e+05  307499.000000     3.072330e+05\n",
      "mean       1.687979e+05  5.990260e+05   27108.573909     5.383962e+05\n",
      "std        2.371231e+05  4.024908e+05   14493.737315     3.694465e+05\n",
      "min        2.565000e+04  4.500000e+04    1615.500000     4.050000e+04\n",
      "25%        1.125000e+05  2.700000e+05   16524.000000     2.385000e+05\n",
      "50%        1.471500e+05  5.135310e+05   24903.000000     4.500000e+05\n",
      "75%        2.025000e+05  8.086500e+05   34596.000000     6.795000e+05\n",
      "max        1.170000e+08  4.050000e+06  258025.500000     4.050000e+06\n"
     ]
    }
   ],
   "source": [
    "# Verificar columnas financieras\n",
    "columns_financial = ['AMT_INCOME_TOTAL', 'AMT_CREDIT', 'AMT_ANNUITY', 'AMT_GOODS_PRICE']\n",
    "\n",
    "print(\"Ejemplo de columnas financieras:\")\n",
    "print(data_cleaned[columns_financial].describe())"
   ]
  },
  {
   "cell_type": "code",
   "execution_count": 46,
   "metadata": {},
   "outputs": [
    {
     "name": "stdout",
     "output_type": "stream",
     "text": [
      "Transformación de columnas categóricas completada:\n",
      "NAME_CONTRACT_TYPE     category\n",
      "CODE_GENDER            category\n",
      "FLAG_OWN_CAR           category\n",
      "FLAG_OWN_REALTY        category\n",
      "NAME_INCOME_TYPE       category\n",
      "NAME_EDUCATION_TYPE    category\n",
      "NAME_FAMILY_STATUS     category\n",
      "NAME_HOUSING_TYPE      category\n",
      "OCCUPATION_TYPE        category\n",
      "EMERGENCYSTATE_MODE    category\n",
      "dtype: object\n"
     ]
    }
   ],
   "source": [
    "# Asegurar que las columnas categóricas estén correctamente codificadas\n",
    "categorical_columns = ['NAME_CONTRACT_TYPE', 'CODE_GENDER', 'FLAG_OWN_CAR', 'FLAG_OWN_REALTY', \n",
    "                       'NAME_INCOME_TYPE', 'NAME_EDUCATION_TYPE', 'NAME_FAMILY_STATUS', \n",
    "                       'NAME_HOUSING_TYPE', 'OCCUPATION_TYPE', 'EMERGENCYSTATE_MODE']\n",
    "\n",
    "for col in categorical_columns:\n",
    "    if col in data_cleaned.columns:\n",
    "        data_cleaned[col] = data_cleaned[col].astype('category')\n",
    "\n",
    "# Verificar los cambios\n",
    "print(\"Transformación de columnas categóricas completada:\")\n",
    "print(data_cleaned[categorical_columns].dtypes)"
   ]
  },
  {
   "cell_type": "code",
   "execution_count": null,
   "metadata": {},
   "outputs": [
    {
     "name": "stdout",
     "output_type": "stream",
     "text": [
      "Dataset preprocesado guardado en: data_preprocessing/data_cleaned_transformed.csv\n"
     ]
    }
   ],
   "source": [
    "# Guardar el dataset actualizado\n",
    "import os\n",
    "\n",
    "output_dir = \"data_preprocessing\"\n",
    "os.makedirs(output_dir, exist_ok=True)\n",
    "output_path = os.path.join(output_dir, \"data_cleaned_transformed.csv\")\n",
    "\n",
    "data_cleaned.to_csv(output_path, index=False)\n",
    "print(f\"Dataset preprocesado guardado en: {output_path}\")"
   ]
  }
 ],
 "metadata": {
  "kernelspec": {
   "display_name": "Python 3 (ipykernel)",
   "language": "python",
   "name": "python3"
  },
  "language_info": {
   "codemirror_mode": {
    "name": "ipython",
    "version": 3
   },
   "file_extension": ".py",
   "mimetype": "text/x-python",
   "name": "python",
   "nbconvert_exporter": "python",
   "pygments_lexer": "ipython3",
   "version": "3.9.12"
  }
 },
 "nbformat": 4,
 "nbformat_minor": 2
}
